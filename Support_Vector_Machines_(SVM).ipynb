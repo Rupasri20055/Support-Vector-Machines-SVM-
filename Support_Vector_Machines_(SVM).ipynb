{
  "nbformat": 4,
  "nbformat_minor": 0,
  "metadata": {
    "colab": {
      "provenance": [],
      "authorship_tag": "ABX9TyMucqMsyJghLTSHEsp/qB1b",
      "include_colab_link": true
    },
    "kernelspec": {
      "name": "python3",
      "display_name": "Python 3"
    },
    "language_info": {
      "name": "python"
    }
  },
  "cells": [
    {
      "cell_type": "markdown",
      "metadata": {
        "id": "view-in-github",
        "colab_type": "text"
      },
      "source": [
        "<a href=\"https://colab.research.google.com/github/Rupasri20055/Support-Vector-Machines-SVM-/blob/main/Support_Vector_Machines_(SVM).ipynb\" target=\"_parent\"><img src=\"https://colab.research.google.com/assets/colab-badge.svg\" alt=\"Open In Colab\"/></a>"
      ]
    },
    {
      "cell_type": "markdown",
      "source": [
        "**Import Libraries**"
      ],
      "metadata": {
        "id": "-kuiokPCKdOZ"
      }
    },
    {
      "cell_type": "code",
      "execution_count": 1,
      "metadata": {
        "id": "K06dBiTvKOHu"
      },
      "outputs": [],
      "source": [
        "import pandas as pd\n",
        "import numpy as np\n",
        "from sklearn.model_selection import train_test_split, cross_val_score\n",
        "from sklearn.preprocessing import StandardScaler, LabelEncoder\n",
        "from sklearn.svm import SVC\n",
        "from sklearn.metrics import confusion_matrix, classification_report, accuracy_score\n",
        "import matplotlib.pyplot as plt\n",
        "import seaborn as sns\n",
        "from matplotlib.colors import ListedColormap\n"
      ]
    },
    {
      "cell_type": "markdown",
      "source": [
        "**Load and Prepare Dataset (Binary Classification)**"
      ],
      "metadata": {
        "id": "Lt5H3QsyKlEy"
      }
    },
    {
      "cell_type": "code",
      "source": [
        "#Let’s pick only two classes from Iris for binary classification.\n",
        "df = pd.read_csv(\"Iris.csv\")\n",
        "\n",
        "# Keep only Setosa and Versicolor for binary classification\n",
        "df = df[df['Species'].isin(['Iris-setosa', 'Iris-versicolor'])]\n",
        "\n",
        "# Encode target variable\n",
        "le = LabelEncoder()\n",
        "df['Species'] = le.fit_transform(df['Species'])  # 0 and 1\n",
        "\n",
        "print(df.head())\n"
      ],
      "metadata": {
        "colab": {
          "base_uri": "https://localhost:8080/"
        },
        "id": "olcDDgw_KVyp",
        "outputId": "0a8e90ea-2ac0-4d8c-dd84-01e66849eebb"
      },
      "execution_count": 4,
      "outputs": [
        {
          "output_type": "stream",
          "name": "stdout",
          "text": [
            "   Id  SepalLengthCm  SepalWidthCm  PetalLengthCm  PetalWidthCm  Species\n",
            "0   1            5.1           3.5            1.4           0.2        0\n",
            "1   2            4.9           3.0            1.4           0.2        0\n",
            "2   3            4.7           3.2            1.3           0.2        0\n",
            "3   4            4.6           3.1            1.5           0.2        0\n",
            "4   5            5.0           3.6            1.4           0.2        0\n"
          ]
        }
      ]
    },
    {
      "cell_type": "markdown",
      "source": [
        "** Select Features and Target, Train-Test Split & Standardize**"
      ],
      "metadata": {
        "id": "tOlcPZMaLNtP"
      }
    },
    {
      "cell_type": "code",
      "source": [
        "#Using two features for decision boundary visualization.\n",
        "X = df[['PetalLengthCm', 'PetalWidthCm']]\n",
        "y = df['Species']\n",
        "\n",
        "X_train, X_test, y_train, y_test = train_test_split(X, y, test_size=0.2, random_state=42)\n",
        "\n",
        "scaler = StandardScaler()\n",
        "X_train_scaled = scaler.fit_transform(X_train)\n",
        "X_test_scaled = scaler.transform(X_test)\n"
      ],
      "metadata": {
        "id": "EQ_7E85vKqJ6"
      },
      "execution_count": 5,
      "outputs": []
    },
    {
      "cell_type": "markdown",
      "source": [
        "**Train SVM (Linear & RBF Kernel)**"
      ],
      "metadata": {
        "id": "ARVQbZo5LlSB"
      }
    },
    {
      "cell_type": "markdown",
      "source": [
        "Linear Kernel"
      ],
      "metadata": {
        "id": "3Ycrfl9pLpal"
      }
    },
    {
      "cell_type": "code",
      "source": [
        "svm_linear = SVC(kernel='linear', C=1)\n",
        "svm_linear.fit(X_train_scaled, y_train)\n",
        "y_pred_linear = svm_linear.predict(X_test_scaled)\n",
        "\n",
        "print(\"Linear Kernel Accuracy:\", accuracy_score(y_test, y_pred_linear))\n"
      ],
      "metadata": {
        "colab": {
          "base_uri": "https://localhost:8080/"
        },
        "id": "5pAZjRf6Lsxo",
        "outputId": "1ef76753-ffe5-41a8-94c4-36a4a9fb992a"
      },
      "execution_count": 6,
      "outputs": [
        {
          "output_type": "stream",
          "name": "stdout",
          "text": [
            "Linear Kernel Accuracy: 1.0\n"
          ]
        }
      ]
    },
    {
      "cell_type": "markdown",
      "source": [
        "RBF Kernel"
      ],
      "metadata": {
        "id": "NiPF5h89LyIu"
      }
    },
    {
      "cell_type": "code",
      "source": [
        "svm_rbf = SVC(kernel='rbf', C=1, gamma=0.5)\n",
        "svm_rbf.fit(X_train_scaled, y_train)\n",
        "y_pred_rbf = svm_rbf.predict(X_test_scaled)\n",
        "\n",
        "print(\"RBF Kernel Accuracy:\", accuracy_score(y_test, y_pred_rbf))\n"
      ],
      "metadata": {
        "colab": {
          "base_uri": "https://localhost:8080/"
        },
        "id": "iWixtrTZLtX5",
        "outputId": "56add71f-e65f-48ed-f438-fa7aed689fbe"
      },
      "execution_count": 7,
      "outputs": [
        {
          "output_type": "stream",
          "name": "stdout",
          "text": [
            "RBF Kernel Accuracy: 1.0\n"
          ]
        }
      ]
    },
    {
      "cell_type": "markdown",
      "source": [
        "**Visualize Decision Boundary (for RBF)**"
      ],
      "metadata": {
        "id": "Z26wnLqyL3kg"
      }
    },
    {
      "cell_type": "code",
      "source": [
        "h = .02\n",
        "x_min, x_max = X_train_scaled[:, 0].min() - 1, X_train_scaled[:, 0].max() + 1\n",
        "y_min, y_max = X_train_scaled[:, 1].min() - 1, X_train_scaled[:, 1].max() + 1\n",
        "xx, yy = np.meshgrid(np.arange(x_min, x_max, h), np.arange(y_min, y_max, h))\n",
        "\n",
        "Z = svm_rbf.predict(np.c_[xx.ravel(), yy.ravel()])\n",
        "Z = Z.reshape(xx.shape)\n",
        "\n",
        "plt.figure(figsize=(8,6))\n",
        "plt.contourf(xx, yy, Z, alpha=0.3, cmap=ListedColormap(('salmon', 'lightblue')))\n",
        "sns.scatterplot(x=X_train_scaled[:, 0], y=X_train_scaled[:, 1], hue=y_train, s=60, edgecolor='k')\n",
        "plt.title('SVM Decision Boundary (RBF Kernel)')\n",
        "plt.xlabel('PetalLength (standardized)')\n",
        "plt.ylabel('PetalWidth (standardized)')\n",
        "plt.show()\n"
      ],
      "metadata": {
        "colab": {
          "base_uri": "https://localhost:8080/",
          "height": 564
        },
        "id": "s-lRtaMML099",
        "outputId": "97f784ed-6a18-49fd-c529-0221443e0ecd"
      },
      "execution_count": 8,
      "outputs": [
        {
          "output_type": "display_data",
          "data": {
            "text/plain": [
              "<Figure size 800x600 with 1 Axes>"
            ],
            "image/png": "[encoded data removed]"
          },
          "metadata": {}
        }
      ]
    },
    {
      "cell_type": "markdown",
      "source": [
        "**Tune Hyperparameters (C & gamma)**"
      ],
      "metadata": {
        "id": "qcsFd-3kL_w6"
      }
    },
    {
      "cell_type": "code",
      "source": [
        "for C_val in [0.1, 1, 10]:\n",
        "    for gamma_val in [0.1, 0.5, 1]:\n",
        "        model = SVC(kernel='rbf', C=C_val, gamma=gamma_val)\n",
        "        model.fit(X_train_scaled, y_train)\n",
        "        preds = model.predict(X_test_scaled)\n",
        "        acc = accuracy_score(y_test, preds)\n",
        "        print(f\"C={C_val}, gamma={gamma_val} → Accuracy: {acc:.4f}\")\n"
      ],
      "metadata": {
        "colab": {
          "base_uri": "https://localhost:8080/"
        },
        "id": "0aUz-cTpL7fY",
        "outputId": "5cf02911-0cd8-4716-fcaf-906024d18760"
      },
      "execution_count": 9,
      "outputs": [
        {
          "output_type": "stream",
          "name": "stdout",
          "text": [
            "C=0.1, gamma=0.1 → Accuracy: 1.0000\n",
            "C=0.1, gamma=0.5 → Accuracy: 1.0000\n",
            "C=0.1, gamma=1 → Accuracy: 1.0000\n",
            "C=1, gamma=0.1 → Accuracy: 1.0000\n",
            "C=1, gamma=0.5 → Accuracy: 1.0000\n",
            "C=1, gamma=1 → Accuracy: 1.0000\n",
            "C=10, gamma=0.1 → Accuracy: 1.0000\n",
            "C=10, gamma=0.5 → Accuracy: 1.0000\n",
            "C=10, gamma=1 → Accuracy: 1.0000\n"
          ]
        }
      ]
    },
    {
      "cell_type": "markdown",
      "source": [
        "**Cross-validation Score (RBF model)**"
      ],
      "metadata": {
        "id": "OBYcOvlNMHhC"
      }
    },
    {
      "cell_type": "code",
      "source": [
        "cv_scores = cross_val_score(svm_rbf, X_train_scaled, y_train, cv=5)\n",
        "print(\"Cross-Validation Scores:\", cv_scores)\n",
        "print(\"Mean CV Accuracy:\", cv_scores.mean())\n"
      ],
      "metadata": {
        "colab": {
          "base_uri": "https://localhost:8080/"
        },
        "id": "_RiK5RIqMDwl",
        "outputId": "a967e306-f4e2-4c86-f149-cf272033af7b"
      },
      "execution_count": 10,
      "outputs": [
        {
          "output_type": "stream",
          "name": "stdout",
          "text": [
            "Cross-Validation Scores: [1. 1. 1. 1. 1.]\n",
            "Mean CV Accuracy: 1.0\n"
          ]
        }
      ]
    }
  ]
}